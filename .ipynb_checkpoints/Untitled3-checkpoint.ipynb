{
 "cells": [
  {
   "cell_type": "code",
   "execution_count": 1,
   "id": "734deb71",
   "metadata": {},
   "outputs": [],
   "source": [
    "import os, shutil"
   ]
  },
  {
   "cell_type": "code",
   "execution_count": 12,
   "id": "e11a8104",
   "metadata": {},
   "outputs": [],
   "source": [
    "path = \"/Users/loges/Desktop/python/\""
   ]
  },
  {
   "cell_type": "code",
   "execution_count": 13,
   "id": "26c54acd",
   "metadata": {},
   "outputs": [],
   "source": [
    "file_name = os.listdir(path)"
   ]
  },
  {
   "cell_type": "code",
   "execution_count": 14,
   "id": "cbd87c76",
   "metadata": {},
   "outputs": [
    {
     "name": "stdout",
     "output_type": "stream",
     "text": [
      "['P1-UK-Bank-Customers.csv', '229-westerlund-21.jpg']\n"
     ]
    }
   ],
   "source": [
    "print(file_name)"
   ]
  },
  {
   "cell_type": "code",
   "execution_count": 25,
   "id": "2adcd0bb",
   "metadata": {},
   "outputs": [],
   "source": [
    "files_folder = [\"jpg files\", \"csv files\"]\n",
    "for loop in range(0,2):\n",
    "    if not os.path.exists(path + files_folder[loop]):\n",
    "        print(path + files_folder[loop])\n",
    "        os.makedirs(path + files_folder[loop])\n",
    "for file in file_name:\n",
    "    if \".csv\" in file and not os.path.exists(path+ \"csv files/\" + file):\n",
    "        shutil.move(path+file, path+ \"csv files/\" + file)\n",
    "    elif \".jpg\" in file and not os.path.exists(path+ \"jpg files/\" + file):\n",
    "        shutil.move(path+file, path+ \"jpg files/\" + file)\n"
   ]
  },
  {
   "cell_type": "code",
   "execution_count": null,
   "id": "a683fdab",
   "metadata": {},
   "outputs": [],
   "source": []
  },
  {
   "cell_type": "code",
   "execution_count": null,
   "id": "7a79b8fd",
   "metadata": {},
   "outputs": [],
   "source": []
  }
 ],
 "metadata": {
  "kernelspec": {
   "display_name": "Python 3 (ipykernel)",
   "language": "python",
   "name": "python3"
  },
  "language_info": {
   "codemirror_mode": {
    "name": "ipython",
    "version": 3
   },
   "file_extension": ".py",
   "mimetype": "text/x-python",
   "name": "python",
   "nbconvert_exporter": "python",
   "pygments_lexer": "ipython3",
   "version": "3.11.5"
  }
 },
 "nbformat": 4,
 "nbformat_minor": 5
}
